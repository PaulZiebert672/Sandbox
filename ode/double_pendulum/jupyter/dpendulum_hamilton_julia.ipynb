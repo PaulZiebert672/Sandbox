{
 "cells": [
  {
   "attachments": {},
   "cell_type": "markdown",
   "metadata": {},
   "source": [
    "# Double pendulum"
   ]
  },
  {
   "cell_type": "code",
   "execution_count": null,
   "metadata": {},
   "outputs": [],
   "source": [
    "using DifferentialEquations\n",
    "using Plots"
   ]
  },
  {
   "attachments": {},
   "cell_type": "markdown",
   "metadata": {},
   "source": [
    "### Equations of motion\n",
    "\n",
    "$$\n",
    "\\mathcal{H} = \\dfrac{1}{2}\n",
    "\\dfrac{p_1^2 + 2 p_2^2 - 2 p_1 p_2 \\cos(\\theta_1 - \\theta_2)}{2 - \\cos(\\theta_1 - \\theta_2)^2} +\n",
    "3 - 2 \\cos{\\theta_1} - \\cos{\\theta_2}\n",
    "$$\n"
   ]
  },
  {
   "cell_type": "code",
   "execution_count": null,
   "metadata": {},
   "outputs": [],
   "source": [
    "function dpendulum(du, u, p, t)\n",
    "    cdiff = cos(u[1] - u[2])\n",
    "    detM = 2 - cdiff^2\n",
    "    W = (sin(u[1] - u[2]) / detM^2) * ((u[3]^2 + 2*u[4]^2)*cdiff - u[3]*u[4]*(4 - detM))\n",
    "    du[1] = (u[3] - u[4]*cdiff) / detM;\n",
    "    du[2] = (2*u[4] - u[3]*cdiff) / detM\n",
    "    du[3] = -2*sin(u[1]) + W\n",
    "    du[4] = -sin(u[2]) - W\n",
    "end"
   ]
  },
  {
   "attachments": {},
   "cell_type": "markdown",
   "metadata": {},
   "source": [
    "### Constant of motion"
   ]
  },
  {
   "cell_type": "code",
   "execution_count": null,
   "metadata": {},
   "outputs": [],
   "source": [
    "function energy(u)\n",
    "    e = (1/2)*(u[3]^2 + 2*u[4]^2 - 2*u[3]*u[4]*cos(u[1] - u[2]))/(2 - cos(u[1] - u[2])^2) + 3 - 2*cos(u[1]) - cos(u[2])\n",
    "end"
   ]
  },
  {
   "attachments": {},
   "cell_type": "markdown",
   "metadata": {},
   "source": [
    "### Initial conditions"
   ]
  },
  {
   "cell_type": "code",
   "execution_count": null,
   "metadata": {},
   "outputs": [],
   "source": [
    "u0 = [0.0, pi/2, 0.0, 0.0]\n",
    "#u0 = [pi/3, 0*pi/2, 0.0, 0.0]\n",
    "\n",
    "energy(u0)"
   ]
  },
  {
   "attachments": {},
   "cell_type": "markdown",
   "metadata": {},
   "source": [
    "### Time scale"
   ]
  },
  {
   "cell_type": "code",
   "execution_count": null,
   "metadata": {},
   "outputs": [],
   "source": [
    "t_max = 384.0\n",
    "t_step = 0.02 "
   ]
  },
  {
   "attachments": {},
   "cell_type": "markdown",
   "metadata": {},
   "source": [
    "### Numerical solution"
   ]
  },
  {
   "cell_type": "code",
   "execution_count": null,
   "metadata": {},
   "outputs": [],
   "source": [
    "prob = ODEProblem(dpendulum, u0, (0.0, t_max))\n",
    "sol = solve(prob, Vern7(), adaptive=false, dt=t_step)\n",
    "data = reduce(hcat, sol.u)'"
   ]
  },
  {
   "attachments": {},
   "cell_type": "markdown",
   "metadata": {},
   "source": [
    "### Phase section $(\\theta_1, p_1)$"
   ]
  },
  {
   "cell_type": "code",
   "execution_count": null,
   "metadata": {},
   "outputs": [],
   "source": [
    "plotOrbit = scatter(\n",
    "    data[:,1], data[:,3],\n",
    "    aspect_ratio = 1,\n",
    "    xlabel = \"\\\\theta_1\",\n",
    "    ylabel = \"\\\\pi_1\",\n",
    "    plot_title = \"Double pendulum\",\n",
    "    markersize = 0.4,\n",
    "    alpha = 0.15,\n",
    "    legend = false,\n",
    "    dpi = 300\n",
    ")\n",
    "annotate!(\n",
    "    xlims(plotOrbit)[1] + 0.12*(xlims(plotOrbit)[2] - xlims(plotOrbit)[1]),\n",
    "    ylims(plotOrbit)[2] - 0.03*(ylims(plotOrbit)[2] - ylims(plotOrbit)[1]),\n",
    "    text(\"E = $(round(energy(u0), digits=4))\", :red, :right, 4)\n",
    ")"
   ]
  },
  {
   "attachments": {},
   "cell_type": "markdown",
   "metadata": {},
   "source": [
    "### Integration error"
   ]
  },
  {
   "cell_type": "code",
   "execution_count": null,
   "metadata": {},
   "outputs": [],
   "source": [
    "plotEnergy = scatter(\n",
    "    sol.t,\n",
    "    map(eachrow(data)) do s\n",
    "        energy(s) - energy(u0)\n",
    "    end,\n",
    "    xlabel = \"t\",\n",
    "    ylabel = \"Energy error - \\\\Delta E\",\n",
    "    plot_title = \"Double pendulum\",\n",
    "    markersize = 0.5,\n",
    "    alpha = 0.25,\n",
    "    legend = false,\n",
    "    dpi = 300\n",
    ")"
   ]
  }
 ],
 "metadata": {
  "kernelspec": {
   "display_name": "Julia 1.8.5",
   "language": "julia",
   "name": "julia-1.8"
  },
  "language_info": {
   "file_extension": ".jl",
   "mimetype": "application/julia",
   "name": "julia",
   "version": "1.8.5"
  },
  "orig_nbformat": 4
 },
 "nbformat": 4,
 "nbformat_minor": 2
}
