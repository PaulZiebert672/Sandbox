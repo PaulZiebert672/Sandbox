{
 "cells": [
  {
   "attachments": {},
   "cell_type": "markdown",
   "metadata": {},
   "source": [
    "# Double pendulum. Hamiltonian dynamics"
   ]
  },
  {
   "cell_type": "code",
   "execution_count": null,
   "metadata": {},
   "outputs": [],
   "source": [
    "using DiffEqPhysics\n",
    "using DifferentialEquations\n",
    "using Plots"
   ]
  },
  {
   "attachments": {},
   "cell_type": "markdown",
   "metadata": {},
   "source": [
    "### Hamiltonian $\\mathcal{H}(p, \\theta)$\n",
    "\n",
    "$$\n",
    "\\mathcal{H} = \\dfrac{1}{2}\n",
    "\\dfrac{p_1^2 + 2 p_2^2 - 2 p_1 p_2 \\cos(\\theta_1 - \\theta_2)}{2 - \\cos(\\theta_1 - \\theta_2)^2} +\n",
    "3 - 2 \\cos{\\theta_1} - \\cos{\\theta_2}\n",
    "$$"
   ]
  },
  {
   "cell_type": "code",
   "execution_count": null,
   "metadata": {},
   "outputs": [],
   "source": [
    "function H(p, q, param = nothing)\n",
    "    E = (1/2)*(p[1]^2 + 2*p[2]^2 - 2*p[1]*p[2]*cos(q[1] - q[2]))/(2 - cos(q[1] - q[2])^2) + 3 - 2*cos(q[1]) - cos(q[2])\n",
    "end"
   ]
  },
  {
   "attachments": {},
   "cell_type": "markdown",
   "metadata": {},
   "source": [
    "### Time span and initial conditions"
   ]
  },
  {
   "cell_type": "code",
   "execution_count": null,
   "metadata": {},
   "outputs": [],
   "source": [
    "t_max = 384.0\n",
    "t_step = 0.02\n",
    "\n",
    "p0 = [0.0, 0.0]\n",
    "q0 = [0.0, pi/2]\n",
    "#q0 = [3.0*pi/12, -acos(1.0 - 2*cos(3.0*pi/12))]\n",
    "H(p0, q0)"
   ]
  },
  {
   "attachments": {},
   "cell_type": "markdown",
   "metadata": {},
   "source": [
    "### Numerical solution"
   ]
  },
  {
   "cell_type": "code",
   "execution_count": null,
   "metadata": {},
   "outputs": [],
   "source": [
    "problem = HamiltonianProblem(H, p0, q0, (0, t_max))\n",
    "solution = solve(problem, Vern6(), adaptive=false, dt = t_step)\n",
    "data = reduce(hcat, solution.u)'"
   ]
  },
  {
   "attachments": {},
   "cell_type": "markdown",
   "metadata": {},
   "source": [
    "### Orbit $(\\theta_1, p_1)$"
   ]
  },
  {
   "cell_type": "code",
   "execution_count": null,
   "metadata": {},
   "outputs": [],
   "source": [
    "Plots.scalefontsizes()\n",
    "Plots.scalefontsizes(0.5)\n",
    "plotOrbit = scatter(\n",
    "    data[:, 3], data[:, 1],\n",
    "    aspect_ratio = 1,\n",
    "    xlabel = \"\\\\theta_1\",\n",
    "    ylabel = \"\\\\pi_1\",\n",
    "    plot_title = \"Double pendulum\",\n",
    "    markersize = 0.4,\n",
    "    alpha = 0.15,\n",
    "    legend = false,\n",
    "    dpi = 300\n",
    ")\n",
    "annotate!(\n",
    "    xlims(plotOrbit)[1] + 0.12*(xlims(plotOrbit)[2] - xlims(plotOrbit)[1]),\n",
    "    ylims(plotOrbit)[2] - 0.03*(ylims(plotOrbit)[2] - ylims(plotOrbit)[1]),\n",
    "    text(\"E = $(round(H(p0, q0), digits=4))\", :red, :right, 4)\n",
    ")"
   ]
  },
  {
   "attachments": {},
   "cell_type": "markdown",
   "metadata": {},
   "source": [
    "### Integration error"
   ]
  },
  {
   "cell_type": "code",
   "execution_count": null,
   "metadata": {},
   "outputs": [],
   "source": [
    "Plots.scalefontsizes()\n",
    "Plots.scalefontsizes(0.5)\n",
    "plotEnergy = scatter(\n",
    "    solution.t,\n",
    "    map(eachrow(data)) do s\n",
    "        H([s[1], s[2]], [s[3], s[4]]) - H(p0, q0)\n",
    "    end,\n",
    "    xlabel = \"t\",\n",
    "    ylabel = \"Energy error - \\\\Delta E\",\n",
    "    plot_title = \"Double pendulum\",\n",
    "    markersize = 0.4,\n",
    "    alpha = 0.15,\n",
    "    legend = false,\n",
    "    dpi = 300\n",
    ")"
   ]
  }
 ],
 "metadata": {
  "kernelspec": {
   "display_name": "Julia 1.8.5",
   "language": "julia",
   "name": "julia-1.8"
  },
  "language_info": {
   "file_extension": ".jl",
   "mimetype": "application/julia",
   "name": "julia",
   "version": "1.8.5"
  },
  "orig_nbformat": 4
 },
 "nbformat": 4,
 "nbformat_minor": 2
}
