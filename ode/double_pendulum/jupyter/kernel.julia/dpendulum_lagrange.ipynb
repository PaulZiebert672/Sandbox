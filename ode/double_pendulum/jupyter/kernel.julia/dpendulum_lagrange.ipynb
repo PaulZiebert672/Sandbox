{
 "cells": [
  {
   "attachments": {},
   "cell_type": "markdown",
   "metadata": {},
   "source": [
    "# Double pendulum"
   ]
  },
  {
   "cell_type": "code",
   "execution_count": null,
   "metadata": {},
   "outputs": [],
   "source": [
    "using DifferentialEquations\n",
    "using Plots"
   ]
  },
  {
   "attachments": {},
   "cell_type": "markdown",
   "metadata": {},
   "source": [
    "### Equations of motion\n",
    "\n",
    "Symmetric double pendulum\n",
    "\n",
    "$$\n",
    "\\mathcal{L} = \\dot{\\theta_1}^2 + \\dfrac{1}{2}\\dot{\\theta_2}^2 + \\dot{\\theta_1}\\dot{\\theta_2}\\cos(\\theta_1 - \\theta_2) + 2\\cos\\theta_1 + \\cos\\theta_2\n",
    "$$\n",
    "\n",
    "$$\n",
    "\\begin{cases}\n",
    "& \\ddot{\\theta_1} & = & \\dfrac{\n",
    "\\phantom{2}\\sin\\theta_2\\cos(\\theta_1 - \\theta_2) -\n",
    "2\\sin\\theta_1 -\n",
    "\\sin(\\theta_1 - \\theta_2)\n",
    "\\Big[ \\phantom{2}\\dot{\\theta_2}^2 + \\cos(\\theta_1 - \\theta_2)\\dot{\\theta_1}^2 \\Big]\n",
    "}{2 - \\cos^2(\\theta_1 - \\theta_2)} & \\\\\n",
    "& \\ddot{\\theta_2} & = & \\dfrac{\n",
    "2\\sin\\theta_1\\cos(\\theta_1 - \\theta_2) -\n",
    "2\\sin\\theta_2 +\n",
    "\\sin(\\theta_1 - \\theta_2)\n",
    "\\Big[ 2\\dot{\\theta_1}^2 + \\cos(\\theta_1 - \\theta_2)\\dot{\\theta_2}^2 \\Big]\n",
    "}{2 - \\cos^2(\\theta_1 - \\theta_2)}\n",
    "\\end{cases}\n",
    "$$"
   ]
  },
  {
   "cell_type": "code",
   "execution_count": null,
   "metadata": {},
   "outputs": [],
   "source": [
    "function dpendulum(du, u, p, t)\n",
    "    sdiff = sin(u[1] - u[2])\n",
    "    cdiff = cos(u[1] - u[2])\n",
    "    detM = 2 - cdiff^2\n",
    "    du[1] = u[3]\n",
    "    du[2] = u[4]\n",
    "    du[3] = (sin(u[2])*cdiff - 2*sin(u[1]) - sdiff*(u[4]^2 + cdiff*u[3]^2)) / detM\n",
    "    du[4] = (2*sin(u[1])*cdiff -2*sin(u[2]) + sdiff*(2*u[3]^2 + cdiff*u[4]^2)) / detM\n",
    "end"
   ]
  },
  {
   "attachments": {},
   "cell_type": "markdown",
   "metadata": {},
   "source": [
    "### Constant of motion"
   ]
  },
  {
   "cell_type": "code",
   "execution_count": null,
   "metadata": {},
   "outputs": [],
   "source": [
    "function energy(u)\n",
    "    e = u[3]^2 + (1/2)*u[4]^2 + u[3]*u[4]*cos(u[1] - u[2]) + 3 - 2*cos(u[1]) - cos(u[2])\n",
    "end"
   ]
  },
  {
   "attachments": {},
   "cell_type": "markdown",
   "metadata": {},
   "source": [
    "### Time span and initial conditions"
   ]
  },
  {
   "cell_type": "code",
   "execution_count": null,
   "metadata": {},
   "outputs": [],
   "source": [
    "t_max = 384.0\n",
    "t_step = 0.02\n",
    "\n",
    "u0 = [0, pi/2, 0.0, 0.0]\n",
    "#u0 = [3*pi/12, -acos(1.0 - 2*cos(3*pi/12)), 0, 0]\n",
    "energy(u0)"
   ]
  },
  {
   "attachments": {},
   "cell_type": "markdown",
   "metadata": {},
   "source": [
    "### Numerical solution"
   ]
  },
  {
   "cell_type": "code",
   "execution_count": null,
   "metadata": {},
   "outputs": [],
   "source": [
    "prob = ODEProblem(dpendulum, u0, (0.0, t_max))\n",
    "sol = solve(prob, Vern7(), adaptive=false, dt=t_step)\n",
    "data = reduce(hcat, sol.u)'"
   ]
  },
  {
   "attachments": {},
   "cell_type": "markdown",
   "metadata": {},
   "source": [
    "### Orbit $(\\theta_1, \\dot{\\theta_1})$"
   ]
  },
  {
   "cell_type": "code",
   "execution_count": null,
   "metadata": {},
   "outputs": [],
   "source": [
    "Plots.scalefontsizes()\n",
    "Plots.scalefontsizes(0.5)\n",
    "plotOrbit = scatter(\n",
    "    data[:,1], data[:,3],\n",
    "    aspect_ratio = 1,\n",
    "    xlabel = \"\\\\theta_1\",\n",
    "    ylabel = \"d \\\\theta_1 / d t\",\n",
    "    plot_title = \"Double pendulum\",\n",
    "    markersize = 0.4,\n",
    "    alpha = 0.15,\n",
    "    legend = false,\n",
    "    dpi = 300\n",
    ")\n",
    "annotate!(\n",
    "    xlims(plotOrbit)[1] + 0.12*(xlims(plotOrbit)[2] - xlims(plotOrbit)[1]),\n",
    "    ylims(plotOrbit)[2] - 0.03*(ylims(plotOrbit)[2] - ylims(plotOrbit)[1]),\n",
    "    text(\"E = $(round(energy(u0), digits=4))\", :red, :right, 4)\n",
    ")"
   ]
  },
  {
   "attachments": {},
   "cell_type": "markdown",
   "metadata": {},
   "source": [
    "### Integration error"
   ]
  },
  {
   "cell_type": "code",
   "execution_count": null,
   "metadata": {},
   "outputs": [],
   "source": [
    "Plots.scalefontsizes()\n",
    "Plots.scalefontsizes(0.5)\n",
    "plotEnergy = scatter(\n",
    "    sol.t,\n",
    "    map(eachrow(data)) do s\n",
    "        energy(s) - energy(u0)\n",
    "    end,\n",
    "    xlabel = \"t\",\n",
    "    ylabel = \"Energy error - \\\\Delta E\",\n",
    "    plot_title = \"Double pendulum\",\n",
    "    markersize = 0.5,\n",
    "    alpha = 0.25,\n",
    "    legend = false,\n",
    "    dpi = 300\n",
    ")"
   ]
  }
 ],
 "metadata": {
  "kernelspec": {
   "display_name": "Julia 1.8.5",
   "language": "julia",
   "name": "julia-1.8"
  },
  "language_info": {
   "file_extension": ".jl",
   "mimetype": "application/julia",
   "name": "julia",
   "version": "1.8.5"
  },
  "orig_nbformat": 4
 },
 "nbformat": 4,
 "nbformat_minor": 2
}
