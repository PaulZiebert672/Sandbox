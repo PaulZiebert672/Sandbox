{
 "cells": [
  {
   "attachments": {},
   "cell_type": "markdown",
   "metadata": {},
   "source": [
    "# Kepler problem"
   ]
  },
  {
   "cell_type": "code",
   "execution_count": null,
   "metadata": {},
   "outputs": [],
   "source": [
    "using OrdinaryDiffEq\n",
    "using LinearAlgebra\n",
    "using ForwardDiff\n",
    "using Plots"
   ]
  },
  {
   "attachments": {},
   "cell_type": "markdown",
   "metadata": {},
   "source": [
    "### Equations of motion\n",
    "\n",
    "In cartesian coordinates\n",
    "\n",
    "$$\n",
    "\\mathcal{H} = \\dfrac{1}{2}\\big( p_1^2 + p_2^2 \\big) + \\dfrac{1}{\\sqrt{x_1^2 + x_2^2}}\n",
    "$$"
   ]
  },
  {
   "cell_type": "code",
   "execution_count": null,
   "metadata": {},
   "outputs": [],
   "source": [
    "H(p, q) = 0.5*norm(p)^2 - inv(norm(q))\n",
    "\n",
    "pdot(dp, p, q, params, t) = ForwardDiff.gradient!(dp, q -> -H(p, q), q)\n",
    "qdot(dq, p, q, params, t) = ForwardDiff.gradient!(dq, p -> H(p, q), p)"
   ]
  },
  {
   "attachments": {},
   "cell_type": "markdown",
   "metadata": {},
   "source": [
    "### Bounded orbits. Initial conditions\n",
    "\n",
    "In cartesian coordinates\n",
    "\n",
    "$$\n",
    "\\vec{x}_0 = (1 - \\epsilon, 0) \\qquad \\vec{p}_0 = \\bigg( 0, \\sqrt{\\dfrac{1 + \\epsilon}{1 - \\epsilon}} \\bigg)\n",
    "$$"
   ]
  },
  {
   "cell_type": "code",
   "execution_count": null,
   "metadata": {},
   "outputs": [],
   "source": [
    "eps = 0.28\n",
    "\n",
    "q0 = [1 - eps, 0.0]\n",
    "p0 = [0.0, sqrt((1 + eps)/(1 - eps))]"
   ]
  },
  {
   "attachments": {},
   "cell_type": "markdown",
   "metadata": {},
   "source": [
    "### Time scale"
   ]
  },
  {
   "cell_type": "code",
   "execution_count": null,
   "metadata": {},
   "outputs": [],
   "source": [
    "N = 120     # points per orbital period\n",
    "K = 5400    # total number of cycles\n",
    "M = 5       # number of last cycles to analyze\n",
    "\n",
    "t_step = 2*pi/N\n",
    "t_max = 2*pi*K"
   ]
  },
  {
   "attachments": {},
   "cell_type": "markdown",
   "metadata": {},
   "source": [
    "### Numerical solution"
   ]
  },
  {
   "cell_type": "code",
   "execution_count": null,
   "metadata": {},
   "outputs": [],
   "source": [
    "prob = DynamicalODEProblem(pdot, qdot, p0, q0, (0.0, t_max))\n",
    "sol = solve(prob, KahanLi6(), dt = t_step);\n",
    "data = reduce(hcat, sol.u[N*(K-M):end])'"
   ]
  },
  {
   "attachments": {},
   "cell_type": "markdown",
   "metadata": {},
   "source": [
    "### Orbit"
   ]
  },
  {
   "cell_type": "code",
   "execution_count": null,
   "metadata": {},
   "outputs": [],
   "source": [
    "Plots.scalefontsizes()\n",
    "Plots.scalefontsizes(0.5)\n",
    "plotOrbit = scatter(\n",
    "    data[:, 3], data[:, 4],\n",
    "    aspect_ratio = 1,\n",
    "    xlabel = \"x\",\n",
    "    ylabel = \"y\",\n",
    "    plot_title = \"Kepler problem\",\n",
    "    markersize = 0.5,\n",
    "    alpha = 0.25,\n",
    "    legend = false,\n",
    "    dpi = 300\n",
    ")\n",
    "annotate!(\n",
    "    xlims(plotOrbit)[1] + 0.12*(xlims(plotOrbit)[2] - xlims(plotOrbit)[1]),\n",
    "    ylims(plotOrbit)[2] - 0.03*(ylims(plotOrbit)[2] - ylims(plotOrbit)[1]),\n",
    "    text(\"\\\\epsilon = $(eps)\", :gray, :right, 4)\n",
    ")"
   ]
  },
  {
   "attachments": {},
   "cell_type": "markdown",
   "metadata": {},
   "source": [
    "### Integration error"
   ]
  },
  {
   "cell_type": "code",
   "execution_count": null,
   "metadata": {},
   "outputs": [],
   "source": [
    "Plots.scalefontsizes()\n",
    "Plots.scalefontsizes(0.5)\n",
    "plotEnergy = scatter(\n",
    "    sol.t[N*(K-M):end]/(2*pi),\n",
    "    map(eachrow(data)) do s\n",
    "        H([s[1], s[2]], [s[3], s[4]]) - H(p0, q0)\n",
    "    end,\n",
    "    xlabel = \"Rotations - N\",\n",
    "    ylabel = \"Energy error - \\\\Delta E\",\n",
    "    plot_title = \"Kepler problem\",\n",
    "    markersize = 0.5,\n",
    "    alpha = 0.25,\n",
    "    legend = false,\n",
    "    dpi = 300\n",
    ")"
   ]
  }
 ],
 "metadata": {
  "kernelspec": {
   "display_name": "Julia 1.8.5",
   "language": "julia",
   "name": "julia-1.8"
  },
  "language_info": {
   "file_extension": ".jl",
   "mimetype": "application/julia",
   "name": "julia",
   "version": "1.8.5"
  },
  "orig_nbformat": 4
 },
 "nbformat": 4,
 "nbformat_minor": 2
}
