{
 "cells": [
  {
   "attachments": {},
   "cell_type": "markdown",
   "metadata": {},
   "source": [
    "# Kepler problem. Exact solution"
   ]
  },
  {
   "cell_type": "code",
   "execution_count": null,
   "metadata": {},
   "outputs": [],
   "source": [
    "using Plots\n",
    "using LaTeXStrings"
   ]
  },
  {
   "attachments": {},
   "cell_type": "markdown",
   "metadata": {},
   "source": [
    "### Eccentricity\n",
    "\n",
    "$$\n",
    "0 \\le \\epsilon < 1\n",
    "$$"
   ]
  },
  {
   "cell_type": "code",
   "execution_count": null,
   "metadata": {},
   "outputs": [],
   "source": [
    "eps = 0.28\n",
    "N = 120"
   ]
  },
  {
   "attachments": {},
   "cell_type": "markdown",
   "metadata": {},
   "source": [
    "### Kepler equation\n",
    "\n",
    "$$\n",
    "\\omega t = \\psi - \\epsilon \\sin\\psi\n",
    "$$"
   ]
  },
  {
   "cell_type": "code",
   "execution_count": null,
   "metadata": {},
   "outputs": [],
   "source": [
    "function keplerPsi(phi, eps)\n",
    "    EPSILON = 1.0e-13\n",
    "    theta0 = 0\n",
    "    theta1 = phi\n",
    "    while abs(theta1 - theta0) > EPSILON\n",
    "        theta0 = theta1\n",
    "        theta1 = phi + eps*sin(theta0)\n",
    "    end\n",
    "    theta1\n",
    "end"
   ]
  },
  {
   "attachments": {},
   "cell_type": "markdown",
   "metadata": {},
   "source": [
    "### Bounded orbit\n",
    "\n",
    "$$\n",
    "\\begin{cases}\n",
    "& x_1 = & \\cos\\psi - \\epsilon \\\\\n",
    "& x_2 = & \\sqrt{1 - \\epsilon^2} \\sin\\psi\n",
    "\\end{cases}\n",
    "\\qquad\n",
    "\\begin{cases}\n",
    "& p_1 = - \\dfrac{\\sin\\psi}{1 - \\epsilon \\cos\\psi} & \\\\\n",
    "& p_2 = \\dfrac{\\sqrt{1 - \\epsilon^2} \\cos\\psi}{1 - \\epsilon \\cos\\psi} &\n",
    "\\end{cases}\n",
    "$$"
   ]
  },
  {
   "cell_type": "code",
   "execution_count": null,
   "metadata": {},
   "outputs": [],
   "source": [
    "a = Array{Float64}(undef, N, 4)\n",
    "for i in 1:N\n",
    "    psi = keplerPsi((i/N)*2*pi, eps)\n",
    "    a[i, 1] = cos(psi) - eps\n",
    "    a[i, 2] = sqrt(1 - eps^2)*sin(psi)\n",
    "    a[i, 3] = -sin(psi)/(1 - eps*cos(psi))\n",
    "    a[i, 4] = sqrt(1 - eps^2)*cos(psi)/(1 - eps*cos(psi))\n",
    "end"
   ]
  },
  {
   "attachments": {},
   "cell_type": "markdown",
   "metadata": {},
   "source": [
    "### Coordinate plane"
   ]
  },
  {
   "cell_type": "code",
   "execution_count": null,
   "metadata": {},
   "outputs": [],
   "source": [
    "Plots.scalefontsizes()\n",
    "Plots.scalefontsizes(0.45)\n",
    "plotOrbit = scatter(\n",
    "    a[:, 1],\n",
    "    a[:, 2],\n",
    "    aspect_ratio = 1,\n",
    "    xlabel = L\"x\",\n",
    "    ylabel = L\"y\",\n",
    "    plot_title = \"Kepler problem. Exact orbit\",\n",
    "    markersize = 1.2,\n",
    "    alpha = 0.75,\n",
    "    legend = false,\n",
    "    framestyle = :origin,\n",
    "    dpi = 300\n",
    ")\n",
    "annotate!(\n",
    "    xlims(plotOrbit)[1] + 0.07*(xlims(plotOrbit)[2] - xlims(plotOrbit)[1]),\n",
    "    ylims(plotOrbit)[2] - 0.03*(ylims(plotOrbit)[2] - ylims(plotOrbit)[1]),\n",
    "    L\"\\epsilon = %$eps%$\"\n",
    ")"
   ]
  },
  {
   "attachments": {},
   "cell_type": "markdown",
   "metadata": {},
   "source": [
    "### Radial section"
   ]
  },
  {
   "cell_type": "code",
   "execution_count": null,
   "metadata": {},
   "outputs": [],
   "source": [
    "Plots.scalefontsizes()\n",
    "Plots.scalefontsizes(0.45)\n",
    "plotRadial = scatter(\n",
    "    map(eachrow(a)) do s \n",
    "        hypot(s[1], s[2])\n",
    "    end,\n",
    "    map(eachrow(a)) do s \n",
    "        (s[3]*s[1] + s[2]*s[4])/hypot(s[1], s[2])\n",
    "    end,\n",
    "    aspect_ratio = 1,\n",
    "    xlabel = L\"r\",\n",
    "    ylabel = L\"p_r\",\n",
    "    plot_title = \"Kepler problem. Radial section\",\n",
    "    markersize = 1.2,\n",
    "    alpha = 0.75,\n",
    "    legend = false,\n",
    "    framestyle = :origin,\n",
    "    dpi = 300\n",
    ")\n",
    "annotate!(\n",
    "    xlims(plotRadial)[2] - 0.12*(xlims(plotRadial)[2] - xlims(plotRadial)[1]),\n",
    "    ylims(plotRadial)[2] - 0.03*(ylims(plotRadial)[2] - ylims(plotRadial)[1]),\n",
    "    L\"\\epsilon = %$eps%$\"\n",
    ")"
   ]
  },
  {
   "attachments": {},
   "cell_type": "markdown",
   "metadata": {},
   "source": [
    "### Momentum hodograph"
   ]
  },
  {
   "cell_type": "code",
   "execution_count": null,
   "metadata": {},
   "outputs": [],
   "source": [
    "Plots.scalefontsizes()\n",
    "Plots.scalefontsizes(0.45)\n",
    "plotHodograph = scatter(\n",
    "    a[:, 3],\n",
    "    a[:, 4],\n",
    "    aspect_ratio = 1,\n",
    "    xlabel = L\"p_x\",\n",
    "    ylabel = L\"p_y\",\n",
    "    plot_title = \"Kepler problem. Momentum hodograph\",\n",
    "    markersize = 1.2,\n",
    "    alpha = 0.75,\n",
    "    legend = false,\n",
    "    framestyle = :origin,\n",
    "    dpi = 300\n",
    ")\n",
    "annotate!(\n",
    "    xlims(plotHodograph)[1] + 0.07*(xlims(plotHodograph)[2] - xlims(plotHodograph)[1]),\n",
    "    ylims(plotHodograph)[2] - 0.03*(ylims(plotHodograph)[2] - ylims(plotHodograph)[1]),\n",
    "    L\"\\epsilon = %$eps%$\"\n",
    ")"
   ]
  }
 ],
 "metadata": {
  "kernelspec": {
   "display_name": "Julia 1.8.5",
   "language": "julia",
   "name": "julia-1.8"
  },
  "language_info": {
   "file_extension": ".jl",
   "mimetype": "application/julia",
   "name": "julia",
   "version": "1.8.5"
  },
  "orig_nbformat": 4
 },
 "nbformat": 4,
 "nbformat_minor": 2
}
